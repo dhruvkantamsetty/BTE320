{
  "cells": [
    {
      "cell_type": "markdown",
      "metadata": {
        "id": "view-in-github",
        "colab_type": "text"
      },
      "source": [
        "<a href=\"https://colab.research.google.com/github/dhruvkantamsetty/BTE320/blob/main/In_Class_Assignments.ipynb\" target=\"_parent\"><img src=\"https://colab.research.google.com/assets/colab-badge.svg\" alt=\"Open In Colab\"/></a>"
      ]
    },
    {
      "cell_type": "markdown",
      "source": [
        "Shape Area Calculator"
      ],
      "metadata": {
        "id": "bjSjEQDt6x9l"
      }
    },
    {
      "cell_type": "code",
      "execution_count": null,
      "metadata": {
        "colab": {
          "base_uri": "https://localhost:8080/"
        },
        "id": "2x5G8qSm8E1H",
        "outputId": "948f4cce-cda5-46bc-849d-e59345f42e71"
      },
      "outputs": [
        {
          "name": "stdout",
          "output_type": "stream",
          "text": [
            "40.0\n"
          ]
        }
      ],
      "source": [
        "pi = 3.14\n",
        "r = 5\n",
        "c = 10\n",
        "h = 8\n",
        "shape = 'triangle'\n",
        "\n",
        "if shape == 'circle':\n",
        "  Area = pi * (r ** 2)\n",
        "  print(Area)\n",
        "\n",
        "elif shape == 'sq':\n",
        "  Area = c ** 2\n",
        "  print(Area)\n",
        "\n",
        "elif shape == 'triangle':\n",
        "  Area = 0.5 * c * h\n",
        "  print(Area)\n",
        "\n",
        "else:\n",
        "  Area = 2 * pi * r * h + 2 * pi * r ** 2\n",
        "  print(Area)"
      ]
    },
    {
      "cell_type": "code",
      "execution_count": null,
      "metadata": {
        "colab": {
          "base_uri": "https://localhost:8080/"
        },
        "id": "V5XGa3ozmvW7",
        "outputId": "4b3dc946-b150-4e39-c67a-f41fc4c7ae35"
      },
      "outputs": [
        {
          "output_type": "stream",
          "name": "stdout",
          "text": [
            "Enter investment amount (($)): 1000\n",
            "Enter type of customer (n-> new, e-> existing): n\n",
            "Annual return after 1 year: $1040.00\n"
          ]
        }
      ],
      "source": [
        "amount = float(input('Enter investment amount (($)): '))\n",
        "customer_type = input('Enter type of customer (n-> new, e-> existing): ')\n",
        "\n",
        "if amount <= 1000 and customer_type == 'e':\n",
        "  ir = 0.03\n",
        "  ret = (1 + ir) * amount\n",
        "elif amount <= 10000 and customer_type == 'e':\n",
        "  ir = 0.0325\n",
        "  ret = (1 + ir) * amount\n",
        "elif amount > 10000 and customer_type == 'e':\n",
        "  ir = 0.035\n",
        "  ret = (1 + ir) * amount\n",
        "else:\n",
        "  ir = 0.04\n",
        "  ret = (1 + ir) * amount\n",
        "\n",
        "print(f'Annual return after 1 year: ${ret:.2f}')"
      ]
    },
    {
      "cell_type": "markdown",
      "source": [
        "Rock, Paper, Scissors"
      ],
      "metadata": {
        "id": "zlzkXq_x7A1i"
      }
    },
    {
      "cell_type": "code",
      "execution_count": null,
      "metadata": {
        "id": "UCSosxwts15x"
      },
      "outputs": [],
      "source": [
        "play = input('Would you like to play? (): ')\n",
        "while play == 'Yes':\n",
        "  p1 = input('Enter P1: Rock, Paper, Scissors (): ')\n",
        "  p2 = input('Enter P2: Rock, Paper, Scissors (): ')\n",
        "  if p1 == p2:\n",
        "    print(\"Draw\")\n",
        "  elif (p1 == \"Rock\" and p2 == \"Scissors\") or \\\n",
        "     (p1 == \"Scissors\" and p2 == \"Paper\") or \\\n",
        "     (p1 == \"Paper\" and p2 == \"Rock\"):\n",
        "    print(\"P1 Wins!\")\n",
        "  elif (p1 == \"Rock\" and p2 == \"Paper\") or \\\n",
        "     (p1 == \"Scissors\" and p2 == \"Rock\") or \\\n",
        "     (p1 == \"Paper\" and p2 == \"Scissors\"):\n",
        "    print(\"P2 Wins!\")\n",
        "\n",
        "  play = input('Would you like to play? () ')\n",
        "\n",
        "\n"
      ]
    },
    {
      "cell_type": "markdown",
      "source": [
        "Numerical Calculator"
      ],
      "metadata": {
        "id": "zrbzLc4y7GWy"
      }
    },
    {
      "cell_type": "code",
      "execution_count": null,
      "metadata": {
        "colab": {
          "base_uri": "https://localhost:8080/"
        },
        "id": "Wd5yhX3X5JMS",
        "outputId": "73a18301-6555-46af-c72b-8fb4d5c80037"
      },
      "outputs": [
        {
          "name": "stdout",
          "output_type": "stream",
          "text": [
            "number 1: 2\n",
            "number 2: 4\n",
            "operation: **\n",
            "16.0\n"
          ]
        }
      ],
      "source": [
        "n1 = float(input(\"number 1: \"))\n",
        "n2 = float(input(\"number 2: \"))\n",
        "symbol = input(\"operation: \")\n",
        "\n",
        "if symbol == \"+\":\n",
        "  ans = n1 + n2\n",
        "  print(ans)\n",
        "elif symbol == \"-\":\n",
        "  ans = n1 - n2\n",
        "  print(ans)\n",
        "elif symbol == \"*\":\n",
        "  ans = n1 * n2\n",
        "  print(ans)\n",
        "elif symbol == \"/\":\n",
        "  ans = n1 / n2\n",
        "  print(ans)\n",
        "elif symbol == \"**\":\n",
        "  ans = n1 ** n2\n",
        "  print(ans)\n",
        "\n",
        "\n"
      ]
    },
    {
      "cell_type": "markdown",
      "source": [
        "Parking Garage"
      ],
      "metadata": {
        "id": "Zs618CHd7Kd-"
      }
    },
    {
      "cell_type": "code",
      "source": [
        "flat_rate = 5\n",
        "hourly_rate = 2.5\n",
        "\n",
        "for h in range(1, 9, 1):\n",
        "  charge = flat_rate + hourly_rate * h\n",
        "  if charge < 10:\n",
        "    charge = 10\n",
        "  elif charge > 20:\n",
        "    charge = 20\n",
        "  print (h, charge)\n",
        "\n",
        "\n"
      ],
      "metadata": {
        "colab": {
          "base_uri": "https://localhost:8080/"
        },
        "id": "uAmuIB-a9ppk",
        "outputId": "ef80d248-ff4a-420f-ebbb-b2c77b1783d4"
      },
      "execution_count": null,
      "outputs": [
        {
          "output_type": "stream",
          "name": "stdout",
          "text": [
            "1 10\n",
            "2 10.0\n",
            "3 12.5\n",
            "4 15.0\n",
            "5 17.5\n",
            "6 20.0\n",
            "7 20\n",
            "8 20\n"
          ]
        }
      ]
    },
    {
      "cell_type": "markdown",
      "source": [
        "Movie Theater"
      ],
      "metadata": {
        "id": "t7T3ZBiU7NdY"
      }
    },
    {
      "cell_type": "code",
      "source": [
        "ticketPrice = 10\n",
        "fixedCost = 200\n",
        "fixedAttendees = 20\n",
        "\n",
        "for ad in range(0, 201, 25):\n",
        "  additionalAttendees = round(2 * ad ** 0.5)\n",
        "  profit = (fixedAttendees + additionalAttendees) * ticketPrice - ad - fixedCost\n",
        "  print(ad, profit)"
      ],
      "metadata": {
        "colab": {
          "base_uri": "https://localhost:8080/"
        },
        "id": "aZVb6ctMDfS5",
        "outputId": "a5c61e25-3bb0-4ba8-e4de-1be1ec3672c7"
      },
      "execution_count": null,
      "outputs": [
        {
          "output_type": "stream",
          "name": "stdout",
          "text": [
            "0 0\n",
            "25 75\n",
            "50 90\n",
            "75 95\n",
            "100 100\n",
            "125 95\n",
            "150 90\n",
            "175 85\n",
            "200 80\n"
          ]
        }
      ]
    },
    {
      "cell_type": "markdown",
      "source": [
        "Months2Numbers Dictionary"
      ],
      "metadata": {
        "id": "qweZ2srg7Qz7"
      }
    },
    {
      "cell_type": "code",
      "source": [
        "from ast import NameConstant\n",
        "from ast import NameConstant\n",
        "months = {}\n",
        "\n",
        "names = [\"Jan\", \"Feb\", \"Mar\", \"Apr\", \"May\", \"Jun\", \"Jul\", \"Aug\", \"Sep\", \"Oct\", \"Nov\", \"Dec\"]\n",
        "numbers = [1,2,3,4,5,6,7,8,9,10,11,12]\n",
        "\n",
        "for n in range(1,13):\n",
        "  months[n] = names[n-1]\n",
        "\n",
        "print(months)\n"
      ],
      "metadata": {
        "colab": {
          "base_uri": "https://localhost:8080/"
        },
        "id": "z6WiqEsI46oS",
        "outputId": "49d90cb6-9fc6-4a6c-8a08-4dfeb7973a44"
      },
      "execution_count": null,
      "outputs": [
        {
          "output_type": "stream",
          "name": "stdout",
          "text": [
            "{1: 'Jan', 2: 'Feb', 3: 'Mar', 4: 'Apr', 5: 'May', 6: 'Jun', 7: 'Jul', 8: 'Aug', 9: 'Sep', 10: 'Oct', 11: 'Nov', 12: 'Dec'}\n"
          ]
        }
      ]
    },
    {
      "cell_type": "markdown",
      "source": [
        "Fee Calculation and Display Functions"
      ],
      "metadata": {
        "id": "bnZo9G3j8UQO"
      }
    },
    {
      "cell_type": "code",
      "source": [
        "flatRate = 5\n",
        "hourlyRate = 2.50\n",
        "\n",
        "def calcFee(hours, decimals=2):\n",
        "  fee = 5 + hours * 2.5\n",
        "  fee = round(fee,decimals)\n",
        "  return fee\n",
        "\n",
        "def displayFee(fee):\n",
        "  print(fee)\n",
        "\n",
        "h = int(input('Enter number of hours: '))\n",
        "fee = calcFee(h, decimals=0)\n",
        "displayFee(fee)"
      ],
      "metadata": {
        "colab": {
          "base_uri": "https://localhost:8080/"
        },
        "id": "6gIFUiZP7c-e",
        "outputId": "20236b4e-6615-4579-eebf-3181c41f146e"
      },
      "execution_count": 4,
      "outputs": [
        {
          "output_type": "stream",
          "name": "stdout",
          "text": [
            "Enter number of hours: 5\n",
            "18.0\n"
          ]
        }
      ]
    },
    {
      "cell_type": "code",
      "source": [
        "check = input('Enter yes or no: ')\n",
        "while check == 'Yes':\n",
        "  print('Hello!')\n",
        "  check = input('Do you wish to continue: ')\n",
        "print('Process finished')\n"
      ],
      "metadata": {
        "colab": {
          "base_uri": "https://localhost:8080/"
        },
        "id": "FtBIS3Ki6PSO",
        "outputId": "500eb889-ca06-4e52-d973-5154922703b7"
      },
      "execution_count": null,
      "outputs": [
        {
          "output_type": "stream",
          "name": "stdout",
          "text": [
            "Enter yes or no: Yes\n",
            "Hello!\n",
            "Do you wish to continue: Yes\n",
            "Hello!\n",
            "Do you wish to continue: No\n",
            "Process finished\n"
          ]
        }
      ]
    },
    {
      "cell_type": "code",
      "source": [
        "def quickSort(L):\n",
        "  if len(L) <= 1:\n",
        "    return L\n",
        "  else:\n",
        "    pivot = L[len(L) // 2]\n",
        "\n",
        "    less = []\n",
        "    equal = []\n",
        "    more = []\n",
        "\n",
        "    for el in L:\n",
        "      if el < pivot:\n",
        "        less.append(el)\n",
        "      elif el == pivot:\n",
        "        equal.append(el)\n",
        "      else:\n",
        "        more.append(el)\n",
        "\n",
        "  return quickSort(less) + equal + quickSort(more)\n",
        "\n",
        "quickSort([8,2,5,1,7,9])"
      ],
      "metadata": {
        "colab": {
          "base_uri": "https://localhost:8080/"
        },
        "id": "Mgm7U3_nXx7z",
        "outputId": "52691a9b-3396-43e0-d6ff-8273ee4545da"
      },
      "execution_count": null,
      "outputs": [
        {
          "output_type": "execute_result",
          "data": {
            "text/plain": [
              "[1, 2, 5, 7, 8, 9]"
            ]
          },
          "metadata": {},
          "execution_count": 1
        }
      ]
    },
    {
      "cell_type": "code",
      "source": [
        "def wAvg(L, w):\n",
        "  try:\n",
        "    res = []\n",
        "    for i in range(len(L)):\n",
        "      res.append(L[i] * w[i])\n",
        "    return sum(res) / sum(w)\n",
        "  except ZeroDivisionError:\n",
        "    print('Divided by zero')\n",
        "    return []\n",
        "  except TypeError:\n",
        "    print('Nun-numerical objects found')\n",
        "    return []\n",
        "  except Exception as e:\n",
        "    print(f'Unknown error: (e)')\n",
        "    return float('nan')\n",
        "wAvg([1,2,3], [.2, 0, -.2])\n"
      ],
      "metadata": {
        "colab": {
          "base_uri": "https://localhost:8080/"
        },
        "id": "80lTSm3Shm-t",
        "outputId": "2ad8bc2e-e7db-4056-8e51-2849fae0d0e0"
      },
      "execution_count": null,
      "outputs": [
        {
          "output_type": "stream",
          "name": "stdout",
          "text": [
            "Divided by zero\n"
          ]
        },
        {
          "output_type": "execute_result",
          "data": {
            "text/plain": [
              "[]"
            ]
          },
          "metadata": {},
          "execution_count": 3
        }
      ]
    },
    {
      "cell_type": "code",
      "source": [
        "class student:\n",
        "  def __init__(self, name, number):\n",
        "    self.__name = name\n",
        "    self.__number = number\n",
        "    self.courses = []\n",
        "\n",
        "  def enroll(self,newCourse):\n",
        "    if newCourse not in self.__courses:\n",
        "      self.__courses.append(newCourse)\n",
        "    else:\n",
        "      print('You have already enrolled in (newCourse)')\n",
        "\n",
        "  def get_courses(self):\n",
        "    return self.courses\n"
      ],
      "metadata": {
        "id": "BrONeyCywTNE"
      },
      "execution_count": 2,
      "outputs": []
    },
    {
      "cell_type": "code",
      "source": [
        "total_cost = float(input(\"Enter the total cost of the house: \"))\n",
        "portion_down_payment = 0.25\n",
        "current_savings = 0.0\n",
        "r = 0.04\n",
        "annual_salary = float(input(\"Enter your annual salary: \"))\n",
        "portion_saved = float(input(\"Enter the portion of salary to save (as a decimal): \"))\n",
        "\n",
        "down_payment = portion_down_payment * total_cost\n",
        "monthly_salary = annual_salary / 12\n",
        "months = 0\n",
        "\n",
        "while current_savings < down_payment:\n",
        "   current_savings += current_savings * (r / 12)\n",
        "   current_savings += portion_saved * monthly_salary\n",
        "   months += 1\n",
        "\n",
        "print(\"Number of months: \", months)"
      ],
      "metadata": {
        "colab": {
          "base_uri": "https://localhost:8080/"
        },
        "id": "aVzzxsJKBzGb",
        "outputId": "00f43abc-3cc1-4ac5-e25c-37a363770345"
      },
      "execution_count": null,
      "outputs": [
        {
          "output_type": "stream",
          "name": "stdout",
          "text": [
            "Enter the total cost of the house: 10000000\n",
            "Enter your annual salary: 100000\n",
            "Enter the portion of salary to save: 50000\n",
            "Number of months:  1\n"
          ]
        }
      ]
    },
    {
      "cell_type": "code",
      "source": [
        "total_cost = float(input(\"Enter the total cost of the house: \"))\n",
        "portion_down_payment = 0.25\n",
        "current_savings = 0.0\n",
        "r = 0.04\n",
        "annual_salary = float(input(\"Enter your annual salary: \"))\n",
        "portion_saved = float(input(\"Enter the portion of salary to save (as a decimal): \"))\n",
        "semi_annual_raise = float(input(\"Enter the semi annual raise (as a decimal): \"))\n",
        "\n",
        "down_payment = portion_down_payment * total_cost\n",
        "monthly_salary = annual_salary / 12\n",
        "months = 0\n",
        "\n",
        "while current_savings < down_payment:\n",
        "   current_savings += current_savings * (r / 12)\n",
        "   current_savings += portion_saved * monthly_salary\n",
        "   months += 1\n",
        "\n",
        "   if months % 6 == 0:\n",
        "     annual_salary += annual_salary * semi_annual_raise\n",
        "     monthly_salary = annual_salary / 12\n",
        "\n",
        "print(\"Number of months: \", months)\n",
        "\n"
      ],
      "metadata": {
        "colab": {
          "base_uri": "https://localhost:8080/"
        },
        "id": "bs_FYBDpDZFJ",
        "outputId": "7832eacd-94d2-4002-c20f-89cecfc370db"
      },
      "execution_count": null,
      "outputs": [
        {
          "output_type": "stream",
          "name": "stdout",
          "text": [
            "Enter the total cost of the house: 120000\n",
            "Enter your annual salary: 50000\n",
            "Enter the portion of salary to save (as a decimal): 0.1\n",
            "Enter the semi annual raise (as a decimal): 0.03\n",
            "Number of months:  58\n"
          ]
        }
      ]
    },
    {
      "cell_type": "code",
      "source": [
        "def range_check_print(num, low, high):\n",
        "    if low <= num <= high:\n",
        "      print(f\"{num} is in the range between {low} and {high}.\")\n",
        "    else:\n",
        "      print(f\"{num} is NOT in the range between {low} and {high}.\")\n",
        "\n",
        "range_check_print(10,5,15)"
      ],
      "metadata": {
        "colab": {
          "base_uri": "https://localhost:8080/"
        },
        "id": "Rpf6bRjpEeOC",
        "outputId": "7fb21b39-d2b5-4294-d8aa-385eb34d6c58"
      },
      "execution_count": null,
      "outputs": [
        {
          "output_type": "stream",
          "name": "stdout",
          "text": [
            "10 is in the range between 5 and 15.\n"
          ]
        }
      ]
    }
  ],
  "metadata": {
    "colab": {
      "provenance": [],
      "authorship_tag": "ABX9TyPZrVFzSy4Fz2AXFH889FyP",
      "include_colab_link": true
    },
    "kernelspec": {
      "display_name": "Python 3",
      "name": "python3"
    },
    "language_info": {
      "name": "python"
    }
  },
  "nbformat": 4,
  "nbformat_minor": 0
}